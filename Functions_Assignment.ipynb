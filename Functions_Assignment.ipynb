{
  "nbformat": 4,
  "nbformat_minor": 0,
  "metadata": {
    "colab": {
      "provenance": []
    },
    "kernelspec": {
      "name": "python3",
      "display_name": "Python 3"
    },
    "language_info": {
      "name": "python"
    }
  },
  "cells": [
    {
      "cell_type": "markdown",
      "source": [
        "**Theory Questions:**"
      ],
      "metadata": {
        "id": "BnRNsb-_kT3T"
      }
    },
    {
      "cell_type": "markdown",
      "source": [
        "1. What is the difference between a function and a method in Python?"
      ],
      "metadata": {
        "id": "x6ilGhqHkUs9"
      }
    },
    {
      "cell_type": "markdown",
      "source": [
        "A function is an independent block of code that performs a specific task and can be called anywhere in the program.\n",
        "\n",
        "A method is a function that is associated with an object and is called using dot notation."
      ],
      "metadata": {
        "id": "KR8xUUHClO11"
      }
    },
    {
      "cell_type": "code",
      "source": [
        "def func():\n",
        "    return \"This is a function\"\n",
        "\n",
        "class Sample:\n",
        "    def method(self):\n",
        "        return \"This is a method\""
      ],
      "metadata": {
        "id": "H818EA7PlOA4"
      },
      "execution_count": 1,
      "outputs": []
    },
    {
      "cell_type": "markdown",
      "source": [
        "2. Explain the concept of function arguments and parameters in Python."
      ],
      "metadata": {
        "id": "T1kl8T3bkdb1"
      }
    },
    {
      "cell_type": "markdown",
      "source": [
        "Parameters are the variables listed in the function definition.\n",
        "\n",
        "Arguments are the values passed to the function when it is called."
      ],
      "metadata": {
        "id": "mYTPOeEKlgKl"
      }
    },
    {
      "cell_type": "code",
      "source": [
        "def greet(name):  # 'name' is a parameter\n",
        "    return f\"Hello, {name}\"\n",
        "print(greet(\"Alice\"))  # \"Alice\" is an argument"
      ],
      "metadata": {
        "colab": {
          "base_uri": "https://localhost:8080/"
        },
        "id": "dyCXG2gqlg7p",
        "outputId": "7712d122-5e2b-414e-e8bb-dbd0352791b0"
      },
      "execution_count": 2,
      "outputs": [
        {
          "output_type": "stream",
          "name": "stdout",
          "text": [
            "Hello, Alice\n"
          ]
        }
      ]
    },
    {
      "cell_type": "markdown",
      "source": [
        "3. What are the different ways to define and call a function in Python?"
      ],
      "metadata": {
        "id": "EjjsK6mUkele"
      }
    },
    {
      "cell_type": "code",
      "source": [
        "#Using def keyword:\n",
        "def add(a, b):\n",
        "    return a + b\n",
        "print(add(2, 3))\n",
        "#Using lambda:\n",
        "add = lambda a, b: a + b\n",
        "print(add(2, 3))"
      ],
      "metadata": {
        "id": "evXcBdnblrBb"
      },
      "execution_count": null,
      "outputs": []
    },
    {
      "cell_type": "markdown",
      "source": [
        "4. What is the purpose of the `return` statement in a Python function?"
      ],
      "metadata": {
        "id": "TUzIPMSNkfqh"
      }
    },
    {
      "cell_type": "markdown",
      "source": [
        "It exits a function and returns a value to the caller.\n"
      ],
      "metadata": {
        "id": "gYINtBoel92B"
      }
    },
    {
      "cell_type": "code",
      "source": [
        "def square(num):\n",
        "    return num * num\n",
        "print(square(4))  # Output: 16"
      ],
      "metadata": {
        "id": "ErM86g9Bl4zL"
      },
      "execution_count": null,
      "outputs": []
    },
    {
      "cell_type": "markdown",
      "source": [
        "5. What are iterators in Python and how do they differ from iterables?"
      ],
      "metadata": {
        "id": "HPF18PWckgoE"
      }
    },
    {
      "cell_type": "markdown",
      "source": [
        "An iterable is an object that can return an iterator (e.g., lists, tuples).\n",
        "\n",
        "An iterator is an object with __iter__() and __next__() methods."
      ],
      "metadata": {
        "id": "VjYyWyuOl_wO"
      }
    },
    {
      "cell_type": "code",
      "source": [
        "my_list = [1, 2, 3]\n",
        "my_iter = iter(my_list)\n",
        "print(next(my_iter))  # Output: 1"
      ],
      "metadata": {
        "id": "-__ArXnimB3B"
      },
      "execution_count": null,
      "outputs": []
    },
    {
      "cell_type": "markdown",
      "source": [
        "6. Explain the concept of generators in Python and how they are defined."
      ],
      "metadata": {
        "id": "AUyE2GMskhhR"
      }
    },
    {
      "cell_type": "markdown",
      "source": [
        "Generators are iterators that use yield instead of return."
      ],
      "metadata": {
        "id": "SKir3QX0mICv"
      }
    },
    {
      "cell_type": "code",
      "source": [
        "def my_gen():\n",
        "    yield 1\n",
        "    yield 2"
      ],
      "metadata": {
        "id": "86J0pqaYmKDG"
      },
      "execution_count": null,
      "outputs": []
    },
    {
      "cell_type": "markdown",
      "source": [
        "7. What are the advantages of using generators over regular functions?"
      ],
      "metadata": {
        "id": "1LLVqrGBkiWH"
      }
    },
    {
      "cell_type": "markdown",
      "source": [
        "Memory efficient\n",
        "\n",
        "Lazy evaluation (produces values only when needed)"
      ],
      "metadata": {
        "id": "ZRD_t-xNmOxY"
      }
    },
    {
      "cell_type": "markdown",
      "source": [
        "8. What is a lambda function in Python and when is it typically used?"
      ],
      "metadata": {
        "id": "O928rGAXkjdu"
      }
    },
    {
      "cell_type": "markdown",
      "source": [
        "A small anonymous function defined using lambda."
      ],
      "metadata": {
        "id": "OH4yA1LsmTDs"
      }
    },
    {
      "cell_type": "code",
      "source": [
        "square = lambda x: x * x\n",
        "print(square(5))  # Output: 25"
      ],
      "metadata": {
        "id": "RAacqoZymUeV"
      },
      "execution_count": null,
      "outputs": []
    },
    {
      "cell_type": "markdown",
      "source": [
        "9. Explain the purpose and usage of the `map()` function in Python."
      ],
      "metadata": {
        "id": "LqY-nNRDkkWS"
      }
    },
    {
      "cell_type": "markdown",
      "source": [
        "Applies a function to all elements in an iterable."
      ],
      "metadata": {
        "id": "0O6Z3PIxmXRy"
      }
    },
    {
      "cell_type": "code",
      "source": [
        "nums = [1, 2, 3]\n",
        "squares = list(map(lambda x: x**2, nums))"
      ],
      "metadata": {
        "id": "ZihD1WeImYcG"
      },
      "execution_count": null,
      "outputs": []
    },
    {
      "cell_type": "markdown",
      "source": [
        "10. What is the difference between `map()`, `reduce()`, and `filter()` functions in Python?"
      ],
      "metadata": {
        "id": "BsaNoTHHkmCf"
      }
    },
    {
      "cell_type": "markdown",
      "source": [
        "map(): Applies a function to each item.\n",
        "\n",
        "reduce(): Applies a function cumulatively.\n",
        "\n",
        "filter(): Filters elements based on a condition."
      ],
      "metadata": {
        "id": "uLG34hHEmaWO"
      }
    },
    {
      "cell_type": "markdown",
      "source": [
        "11. Using pen & Paper write the internal mechanism for sum operation using  reduce function on this given\n",
        "list:[47,11,42,13];"
      ],
      "metadata": {
        "id": "S6FlqPSuknIm"
      }
    },
    {
      "cell_type": "code",
      "source": [
        "from functools import reduce\n",
        "\n",
        "numbers = [47, 11, 42, 13]\n",
        "result = reduce(lambda x, y: x + y, numbers)\n",
        "print(result)"
      ],
      "metadata": {
        "colab": {
          "base_uri": "https://localhost:8080/"
        },
        "id": "toeJZxQ7q1qY",
        "outputId": "526dcaf6-f6e3-4340-ef52-0f9557ab288a"
      },
      "execution_count": 3,
      "outputs": [
        {
          "output_type": "stream",
          "name": "stdout",
          "text": [
            "113\n"
          ]
        }
      ]
    },
    {
      "cell_type": "markdown",
      "source": [
        "**Practical Questions:**"
      ],
      "metadata": {
        "id": "4YQ5ZMLGn6zJ"
      }
    },
    {
      "cell_type": "markdown",
      "source": [
        "1. Write a Python function that takes a list of numbers as input and returns the sum of all even numbers in\n",
        "the list."
      ],
      "metadata": {
        "id": "wIYteC-joLKn"
      }
    },
    {
      "cell_type": "code",
      "source": [
        "def sum_even(lst):\n",
        "    return sum(num for num in lst if num % 2 == 0)"
      ],
      "metadata": {
        "id": "MLKEJZb5ptoT"
      },
      "execution_count": null,
      "outputs": []
    },
    {
      "cell_type": "markdown",
      "source": [
        "2. Create a Python function that accepts a string and returns the reverse of that string."
      ],
      "metadata": {
        "id": "2C7XOHZpoMap"
      }
    },
    {
      "cell_type": "code",
      "source": [
        "def reverse_string(s):\n",
        "    return s[::-1]"
      ],
      "metadata": {
        "id": "TttOEBUqpucp"
      },
      "execution_count": null,
      "outputs": []
    },
    {
      "cell_type": "markdown",
      "source": [
        "3. Implement a Python function that takes a list of integers and returns a new list containing the squares of\n",
        "each number."
      ],
      "metadata": {
        "id": "snReRKOWoNXv"
      }
    },
    {
      "cell_type": "code",
      "source": [
        "def square_list(lst):\n",
        "    return [x**2 for x in lst]"
      ],
      "metadata": {
        "id": "pVcfIr0-pw2d"
      },
      "execution_count": null,
      "outputs": []
    },
    {
      "cell_type": "markdown",
      "source": [
        "4. Write a Python function that checks if a given number is prime or not from 1 to 200."
      ],
      "metadata": {
        "id": "x0U6IFEloO8E"
      }
    },
    {
      "cell_type": "code",
      "source": [
        "def is_prime(n):\n",
        "    if n < 2:\n",
        "        return False\n",
        "    for i in range(2, int(n**0.5) + 1):\n",
        "        if n % i == 0:\n",
        "            return False\n",
        "    return True"
      ],
      "metadata": {
        "id": "AQJgKznfp0Zo"
      },
      "execution_count": null,
      "outputs": []
    },
    {
      "cell_type": "markdown",
      "source": [
        "5. Create an iterator class in Python that generates the Fibonacci sequence up to a specified number of\n",
        "terms."
      ],
      "metadata": {
        "id": "N8hCFNuIobvH"
      }
    },
    {
      "cell_type": "code",
      "source": [
        "class Fibonacci:\n",
        "    def __init__(self, max_terms):\n",
        "        self.a, self.b = 0, 1\n",
        "        self.max = max_terms\n",
        "    def __iter__(self):\n",
        "        return self\n",
        "    def __next__(self):\n",
        "        if self.max <= 0:\n",
        "            raise StopIteration\n",
        "        self.a, self.b = self.b, self.a + self.b\n",
        "        self.max -= 1\n",
        "        return self.a"
      ],
      "metadata": {
        "id": "4Y2OYY6np5CP"
      },
      "execution_count": null,
      "outputs": []
    },
    {
      "cell_type": "markdown",
      "source": [
        "6. Write a generator function in Python that yields the powers of 2 up to a given exponent."
      ],
      "metadata": {
        "id": "X60dn_1uodM4"
      }
    },
    {
      "cell_type": "code",
      "source": [
        "def power_of_two(n):\n",
        "    for i in range(n+1):\n",
        "        yield 2**i"
      ],
      "metadata": {
        "id": "CiIcdyB3p9wy"
      },
      "execution_count": null,
      "outputs": []
    },
    {
      "cell_type": "markdown",
      "source": [
        "7. Implement a generator function that reads a file line by line and yields each line as a string."
      ],
      "metadata": {
        "id": "H1Nd3ATkpAlQ"
      }
    },
    {
      "cell_type": "code",
      "source": [
        "def read_file(file_name):\n",
        "    with open(file_name, 'r') as f:\n",
        "        for line in f:\n",
        "            yield line.strip()"
      ],
      "metadata": {
        "id": "A6fVCMBCqCst"
      },
      "execution_count": null,
      "outputs": []
    },
    {
      "cell_type": "markdown",
      "source": [
        "8. Use a lambda function in Python to sort a list of tuples based on the second element of each tuple."
      ],
      "metadata": {
        "id": "002LNkCvpCKb"
      }
    },
    {
      "cell_type": "code",
      "source": [
        "tuples_list = [(1, 3), (2, 1), (3, 2)]\n",
        "sorted_list = sorted(tuples_list, key=lambda x: x[1])"
      ],
      "metadata": {
        "id": "bVJVNthfqHr0"
      },
      "execution_count": null,
      "outputs": []
    },
    {
      "cell_type": "markdown",
      "source": [
        "9. Write a Python program that uses `map()` to convert a list of temperatures from Celsius to Fahrenheit."
      ],
      "metadata": {
        "id": "AAwUEfH3pIHh"
      }
    },
    {
      "cell_type": "code",
      "source": [
        "celsius = [0, 10, 20, 30]\n",
        "fahrenheit = list(map(lambda x: (x * 9/5) + 32, celsius))"
      ],
      "metadata": {
        "id": "6ZryB-m4qPJi"
      },
      "execution_count": null,
      "outputs": []
    },
    {
      "cell_type": "markdown",
      "source": [
        "10. Create a Python program that uses `filter()` to remove all the vowels from a given string."
      ],
      "metadata": {
        "id": "a6InFtJCpInr"
      }
    },
    {
      "cell_type": "code",
      "source": [
        "vowels = \"aeiouAEIOU\"\n",
        "text = \"hello world\"\n",
        "result = \"\".join(filter(lambda x: x not in vowels, text))"
      ],
      "metadata": {
        "id": "blGNlu9jqStN"
      },
      "execution_count": null,
      "outputs": []
    },
    {
      "cell_type": "markdown",
      "source": [
        "11) Imagine an accounting routine used in a book shop. It works on a list with sublists, which look like this:Write a Python program using lambda and map."
      ],
      "metadata": {
        "id": "xJEfGBu1pJyT"
      }
    },
    {
      "cell_type": "code",
      "source": [
        "orders = [[34587, \"Learning Python\", 4, 40.95],\n",
        "          [98762, \"Programming Java\", 5, 56.80],\n",
        "          [77226, \"Data Science\", 3, 32.95],\n",
        "          [88112, \"AI & ML\", 3, 24.99]]\n",
        "\n",
        "total_order = list(map(lambda x: (x[0], x[2] * x[3] if x[2] * x[3] > 100 else x[2] * x[3] + 10), orders))"
      ],
      "metadata": {
        "id": "vCsYqcTxqV9B"
      },
      "execution_count": null,
      "outputs": []
    }
  ]
}